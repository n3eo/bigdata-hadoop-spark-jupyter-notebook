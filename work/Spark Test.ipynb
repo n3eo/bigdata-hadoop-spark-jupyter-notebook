{
 "cells": [
  {
   "cell_type": "code",
   "execution_count": 2,
   "metadata": {},
   "outputs": [],
   "source": [
    "import pyspark\n",
    "from pyspark.sql import SparkSession\n",
    "from pyspark.sql import functions as F\n",
    "from pyspark import SparkContext"
   ]
  },
  {
   "cell_type": "code",
   "execution_count": 3,
   "metadata": {},
   "outputs": [],
   "source": [
    "spark = SparkSession\\\n",
    "            .builder\\\n",
    "            .master(\"spark://spark-master:7077\")\\\n",
    "            .appName(\"PySpark SQL\")\\\n",
    "            .config(\"pyspark.python\", \"python3\")\\\n",
    "            .config(\"spark.sql.repl.eagerEval.enabled\", \"true\")\\\n",
    "            .config('spark.extraListeners', 'sparkmonitor.listener.JupyterSparkMonitorListener')\\\n",
    "            .config('spark.driver.extraClassPath', '/usr/local/lib/python3.7/site-packages/sparkmonitor/listener_2.11.jar')\\\n",
    "            .getOrCreate()"
   ]
  },
  {
   "cell_type": "code",
   "execution_count": 7,
   "metadata": {
    "scrolled": true
   },
   "outputs": [
    {
     "data": {
      "text/plain": [
       "[('spark.app.name', 'PySpark SQL'),\n",
       " ('spark.sql.repl.eagerEval.enabled', 'true'),\n",
       " ('spark.driver.extraClassPath',\n",
       "  '/usr/local/lib/python3.7/site-packages/sparkmonitor/listener_2.11.jar'),\n",
       " ('spark.extraListeners', 'sparkmonitor.listener.JupyterSparkMonitorListener'),\n",
       " ('spark.rdd.compress', 'True'),\n",
       " ('spark.master', 'spark://spark-master:7077'),\n",
       " ('spark.driver.port', '39599'),\n",
       " ('spark.serializer.objectStreamReset', '100'),\n",
       " ('spark.executor.id', 'driver'),\n",
       " ('spark.submit.deployMode', 'client'),\n",
       " ('spark.app.id', 'app-20201129221612-0001'),\n",
       " ('spark.driver.host', '87cd2d426283'),\n",
       " ('spark.ui.showConsoleProgress', 'true')]"
      ]
     },
     "execution_count": 7,
     "metadata": {},
     "output_type": "execute_result"
    }
   ],
   "source": [
    "spark._sc.getConf().getAll()"
   ]
  },
  {
   "cell_type": "code",
   "execution_count": 8,
   "metadata": {},
   "outputs": [],
   "source": [
    "df = spark.read.json(\"hdfs://namenode:8020/arxiv-metadata-oai-snapshot.json\")"
   ]
  },
  {
   "cell_type": "code",
   "execution_count": 28,
   "metadata": {},
   "outputs": [
    {
     "data": {
      "text/plain": [
       "StructType(List(StructField(abstract,StringType,true),StructField(authors,StringType,true),StructField(authors_parsed,ArrayType(ArrayType(StringType,true),true),true),StructField(categories,StringType,true),StructField(comments,StringType,true),StructField(doi,StringType,true),StructField(id,StringType,true),StructField(journal-ref,StringType,true),StructField(license,StringType,true),StructField(report-no,StringType,true),StructField(submitter,StringType,true),StructField(title,StringType,true),StructField(update_date,StringType,true),StructField(versions,ArrayType(StructType(List(StructField(created,StringType,true),StructField(version,StringType,true))),true),true)))"
      ]
     },
     "execution_count": 28,
     "metadata": {},
     "output_type": "execute_result"
    }
   ],
   "source": [
    "df.schema"
   ]
  },
  {
   "cell_type": "code",
   "execution_count": 29,
   "metadata": {
    "scrolled": false
   },
   "outputs": [
    {
     "data": {
      "text/html": [
       "<table border='1'>\n",
       "<tr><th>abstract</th><th>authors</th><th>authors_parsed</th><th>categories</th><th>comments</th><th>doi</th><th>id</th><th>journal-ref</th><th>license</th><th>report-no</th><th>submitter</th><th>title</th><th>update_date</th><th>versions</th></tr>\n",
       "<tr><td>  A fully differe...</td><td>C. Bal\\&#x27;azs, E. L...</td><td>[[Balázs, C., ], ...</td><td>hep-ph</td><td>37 pages, 15 figu...</td><td>10.1103/PhysRevD....</td><td>0704.0001</td><td>Phys.Rev.D76:0130...</td><td>null</td><td>ANL-HEP-PR-07-12</td><td>Pavel Nadolsky</td><td>Calculation of pr...</td><td>2008-11-26</td><td>[[Mon, 2 Apr 2007...</td></tr>\n",
       "<tr><td>  We describe a n...</td><td>Ileana Streinu an...</td><td>[[Streinu, Ileana...</td><td>math.CO cs.CG</td><td>To appear in Grap...</td><td>null</td><td>0704.0002</td><td>null</td><td>http://arxiv.org/...</td><td>null</td><td>Louis Theran</td><td>Sparsity-certifyi...</td><td>2008-12-13</td><td>[[Sat, 31 Mar 200...</td></tr>\n",
       "<tr><td>  The evolution o...</td><td>Hongjun Pan</td><td>[[Pan, Hongjun, ]]</td><td>physics.gen-ph</td><td>23 pages, 3 figures</td><td>null</td><td>0704.0003</td><td>null</td><td>null</td><td>null</td><td>Hongjun Pan</td><td>The evolution of ...</td><td>2008-01-13</td><td>[[Sun, 1 Apr 2007...</td></tr>\n",
       "<tr><td>  We show that a ...</td><td>David Callan</td><td>[[Callan, David, ]]</td><td>math.CO</td><td>11 pages</td><td>null</td><td>0704.0004</td><td>null</td><td>null</td><td>null</td><td>David Callan</td><td>A determinant of ...</td><td>2007-05-23</td><td>[[Sat, 31 Mar 200...</td></tr>\n",
       "<tr><td>  In this paper w...</td><td>Wael Abu-Shammala...</td><td>[[Abu-Shammala, W...</td><td>math.CA math.FA</td><td>null</td><td>null</td><td>0704.0005</td><td>Illinois J. Math....</td><td>null</td><td>null</td><td>Alberto Torchinsky</td><td>From dyadic $\\Lam...</td><td>2013-10-15</td><td>[[Mon, 2 Apr 2007...</td></tr>\n",
       "<tr><td>  We study the tw...</td><td>Y. H. Pong and C....</td><td>[[Pong, Y. H., ],...</td><td>cond-mat.mes-hall</td><td>6 pages, 4 figure...</td><td>10.1103/PhysRevA....</td><td>0704.0006</td><td>null</td><td>null</td><td>null</td><td>Yue Hin Pong</td><td>Bosonic character...</td><td>2015-05-13</td><td>[[Sat, 31 Mar 200...</td></tr>\n",
       "<tr><td>  A rather non-st...</td><td>Alejandro Corichi...</td><td>[[Corichi, Alejan...</td><td>gr-qc</td><td>16 pages, no figu...</td><td>10.1103/PhysRevD....</td><td>0704.0007</td><td>Phys.Rev.D76:0440...</td><td>null</td><td>IGPG-07/03-2</td><td>Alejandro Corichi</td><td>Polymer Quantum M...</td><td>2008-11-26</td><td>[[Sat, 31 Mar 200...</td></tr>\n",
       "<tr><td>  A general formu...</td><td>Damian C. Swift</td><td>[[Swift, Damian C...</td><td>cond-mat.mtrl-sci</td><td>Minor corrections</td><td>10.1063/1.2975338</td><td>0704.0008</td><td>Journal of Applie...</td><td>http://arxiv.org/...</td><td>LA-UR-07-2051, LL...</td><td>Damian Swift</td><td>Numerical solutio...</td><td>2009-02-05</td><td>[[Sat, 31 Mar 200...</td></tr>\n",
       "<tr><td>  We discuss the ...</td><td>Paul Harvey, Brun...</td><td>[[Harvey, Paul, ]...</td><td>astro-ph</td><td>null</td><td>10.1086/518646</td><td>0704.0009</td><td>Astrophys.J.663:1...</td><td>null</td><td>null</td><td>Paul Harvey</td><td>The Spitzer c2d S...</td><td>2010-03-18</td><td>[[Mon, 2 Apr 2007...</td></tr>\n",
       "<tr><td>  Partial cubes a...</td><td>Sergei Ovchinnikov</td><td>[[Ovchinnikov, Se...</td><td>math.CO</td><td>36 pages, 17 figures</td><td>null</td><td>0704.0010</td><td>null</td><td>null</td><td>null</td><td>Sergei Ovchinnikov</td><td>Partial cubes: st...</td><td>2007-05-23</td><td>[[Sat, 31 Mar 200...</td></tr>\n",
       "<tr><td>  In this paper w...</td><td>Clifton Cunningha...</td><td>[[Cunningham, Cli...</td><td>math.NT math.AG</td><td>14 pages; title c...</td><td>null</td><td>0704.0011</td><td>null</td><td>http://arxiv.org/...</td><td>null</td><td>Clifton Cunningham</td><td>Computing genus 2...</td><td>2008-08-20</td><td>[[Sat, 31 Mar 200...</td></tr>\n",
       "<tr><td>  Recently, Bruin...</td><td>Dohoon Choi</td><td>[[Choi, Dohoon, ]]</td><td>math.NT</td><td>null</td><td>null</td><td>0704.0012</td><td>null</td><td>null</td><td>null</td><td>Dohoon Choi</td><td>Distribution of i...</td><td>2007-05-23</td><td>[[Sat, 31 Mar 200...</td></tr>\n",
       "<tr><td>  Serre obtained ...</td><td>Dohoon Choi and Y...</td><td>[[Choi, Dohoon, ]...</td><td>math.NT</td><td>null</td><td>null</td><td>0704.0013</td><td>null</td><td>null</td><td>null</td><td>Dohoon Choi</td><td>$p$-adic Limit of...</td><td>2008-05-26</td><td>[[Sat, 31 Mar 200...</td></tr>\n",
       "<tr><td>  In this article...</td><td>Koichi Fujii</td><td>[[Fujii, Koichi, ]]</td><td>math.CA math.AT</td><td>18 pages, 1 figure</td><td>null</td><td>0704.0014</td><td>null</td><td>null</td><td>null</td><td>Koichi Fujii</td><td>Iterated integral...</td><td>2009-09-29</td><td>[[Sun, 1 Apr 2007...</td></tr>\n",
       "<tr><td>  The pure spinor...</td><td>Christian Stahn</td><td>[[Stahn, Christia...</td><td>hep-th</td><td>22 pages; signs a...</td><td>10.1088/1126-6708...</td><td>0704.0015</td><td>JHEP 0705:034,2007</td><td>null</td><td>null</td><td>Christian Stahn</td><td>Fermionic superst...</td><td>2009-11-13</td><td>[[Mon, 2 Apr 2007...</td></tr>\n",
       "<tr><td>  In this work, w...</td><td>Chao-Hsi Chang, T...</td><td>[[Chang, Chao-Hsi...</td><td>hep-ph</td><td>17 pages, 3 figur...</td><td>10.1088/0253-6102...</td><td>0704.0016</td><td>Commun.Theor.Phys...</td><td>null</td><td>null</td><td>Li Tong</td><td>Lifetime of doubl...</td><td>2008-12-18</td><td>[[Sat, 31 Mar 200...</td></tr>\n",
       "<tr><td>  Results from sp...</td><td>Nceba Mhlahlo, Da...</td><td>[[Mhlahlo, Nceba,...</td><td>astro-ph</td><td>10 pages, 11 figu...</td><td>10.1111/j.1365-29...</td><td>0704.0017</td><td>Mon.Not.Roy.Astro...</td><td>null</td><td>null</td><td>Nceba Mhlahlo</td><td>Spectroscopic Obs...</td><td>2009-06-23</td><td>[[Sat, 31 Mar 200...</td></tr>\n",
       "<tr><td>  We give a presc...</td><td>Andreas Gustavsson</td><td>[[Gustavsson, And...</td><td>hep-th</td><td>20 pages, v2: an ...</td><td>null</td><td>0704.0018</td><td>null</td><td>null</td><td>null</td><td>Andreas Gustavsson</td><td>In quest of a gen...</td><td>2007-05-23</td><td>[[Mon, 2 Apr 2007...</td></tr>\n",
       "<tr><td>  In this note we...</td><td>Norio Konno</td><td>[[Konno, Norio, ]]</td><td>math.PR math.AG</td><td>6 pages, Journal-...</td><td>null</td><td>0704.0019</td><td>RIMS Kokyuroku, N...</td><td>null</td><td>null</td><td>Norio Konno</td><td>Approximation for...</td><td>2007-06-23</td><td>[[Sat, 31 Mar 200...</td></tr>\n",
       "<tr><td>  The shape of th...</td><td>The BABAR Collabo...</td><td>[[The BABAR Colla...</td><td>hep-ex</td><td>21 pages, 13 post...</td><td>10.1103/PhysRevD....</td><td>0704.0020</td><td>Phys.Rev.D76:0520...</td><td>null</td><td>BABAR-PUB-07/015,...</td><td>Patrick Roudeau</td><td>Measurement of th...</td><td>2015-06-30</td><td>[[Sat, 31 Mar 200...</td></tr>\n",
       "</table>\n",
       "only showing top 20 rows\n"
      ],
      "text/plain": [
       "+--------------------+--------------------+--------------------+-----------------+--------------------+--------------------+---------+--------------------+--------------------+--------------------+------------------+--------------------+-----------+--------------------+\n",
       "|            abstract|             authors|      authors_parsed|       categories|            comments|                 doi|       id|         journal-ref|             license|           report-no|         submitter|               title|update_date|            versions|\n",
       "+--------------------+--------------------+--------------------+-----------------+--------------------+--------------------+---------+--------------------+--------------------+--------------------+------------------+--------------------+-----------+--------------------+\n",
       "|  A fully differe...|C. Bal\\'azs, E. L...|[[Balázs, C., ], ...|           hep-ph|37 pages, 15 figu...|10.1103/PhysRevD....|0704.0001|Phys.Rev.D76:0130...|                null|    ANL-HEP-PR-07-12|    Pavel Nadolsky|Calculation of pr...| 2008-11-26|[[Mon, 2 Apr 2007...|\n",
       "|  We describe a n...|Ileana Streinu an...|[[Streinu, Ileana...|    math.CO cs.CG|To appear in Grap...|                null|0704.0002|                null|http://arxiv.org/...|                null|      Louis Theran|Sparsity-certifyi...| 2008-12-13|[[Sat, 31 Mar 200...|\n",
       "|  The evolution o...|         Hongjun Pan|  [[Pan, Hongjun, ]]|   physics.gen-ph| 23 pages, 3 figures|                null|0704.0003|                null|                null|                null|       Hongjun Pan|The evolution of ...| 2008-01-13|[[Sun, 1 Apr 2007...|\n",
       "|  We show that a ...|        David Callan| [[Callan, David, ]]|          math.CO|            11 pages|                null|0704.0004|                null|                null|                null|      David Callan|A determinant of ...| 2007-05-23|[[Sat, 31 Mar 200...|\n",
       "|  In this paper w...|Wael Abu-Shammala...|[[Abu-Shammala, W...|  math.CA math.FA|                null|                null|0704.0005|Illinois J. Math....|                null|                null|Alberto Torchinsky|From dyadic $\\Lam...| 2013-10-15|[[Mon, 2 Apr 2007...|\n",
       "|  We study the tw...|Y. H. Pong and C....|[[Pong, Y. H., ],...|cond-mat.mes-hall|6 pages, 4 figure...|10.1103/PhysRevA....|0704.0006|                null|                null|                null|      Yue Hin Pong|Bosonic character...| 2015-05-13|[[Sat, 31 Mar 200...|\n",
       "|  A rather non-st...|Alejandro Corichi...|[[Corichi, Alejan...|            gr-qc|16 pages, no figu...|10.1103/PhysRevD....|0704.0007|Phys.Rev.D76:0440...|                null|        IGPG-07/03-2| Alejandro Corichi|Polymer Quantum M...| 2008-11-26|[[Sat, 31 Mar 200...|\n",
       "|  A general formu...|     Damian C. Swift|[[Swift, Damian C...|cond-mat.mtrl-sci|   Minor corrections|   10.1063/1.2975338|0704.0008|Journal of Applie...|http://arxiv.org/...|LA-UR-07-2051, LL...|      Damian Swift|Numerical solutio...| 2009-02-05|[[Sat, 31 Mar 200...|\n",
       "|  We discuss the ...|Paul Harvey, Brun...|[[Harvey, Paul, ]...|         astro-ph|                null|      10.1086/518646|0704.0009|Astrophys.J.663:1...|                null|                null|       Paul Harvey|The Spitzer c2d S...| 2010-03-18|[[Mon, 2 Apr 2007...|\n",
       "|  Partial cubes a...|  Sergei Ovchinnikov|[[Ovchinnikov, Se...|          math.CO|36 pages, 17 figures|                null|0704.0010|                null|                null|                null|Sergei Ovchinnikov|Partial cubes: st...| 2007-05-23|[[Sat, 31 Mar 200...|\n",
       "|  In this paper w...|Clifton Cunningha...|[[Cunningham, Cli...|  math.NT math.AG|14 pages; title c...|                null|0704.0011|                null|http://arxiv.org/...|                null|Clifton Cunningham|Computing genus 2...| 2008-08-20|[[Sat, 31 Mar 200...|\n",
       "|  Recently, Bruin...|         Dohoon Choi|  [[Choi, Dohoon, ]]|          math.NT|                null|                null|0704.0012|                null|                null|                null|       Dohoon Choi|Distribution of i...| 2007-05-23|[[Sat, 31 Mar 200...|\n",
       "|  Serre obtained ...|Dohoon Choi and Y...|[[Choi, Dohoon, ]...|          math.NT|                null|                null|0704.0013|                null|                null|                null|       Dohoon Choi|$p$-adic Limit of...| 2008-05-26|[[Sat, 31 Mar 200...|\n",
       "|  In this article...|        Koichi Fujii| [[Fujii, Koichi, ]]|  math.CA math.AT|  18 pages, 1 figure|                null|0704.0014|                null|                null|                null|      Koichi Fujii|Iterated integral...| 2009-09-29|[[Sun, 1 Apr 2007...|\n",
       "|  The pure spinor...|     Christian Stahn|[[Stahn, Christia...|           hep-th|22 pages; signs a...|10.1088/1126-6708...|0704.0015|  JHEP 0705:034,2007|                null|                null|   Christian Stahn|Fermionic superst...| 2009-11-13|[[Mon, 2 Apr 2007...|\n",
       "|  In this work, w...|Chao-Hsi Chang, T...|[[Chang, Chao-Hsi...|           hep-ph|17 pages, 3 figur...|10.1088/0253-6102...|0704.0016|Commun.Theor.Phys...|                null|                null|           Li Tong|Lifetime of doubl...| 2008-12-18|[[Sat, 31 Mar 200...|\n",
       "|  Results from sp...|Nceba Mhlahlo, Da...|[[Mhlahlo, Nceba,...|         astro-ph|10 pages, 11 figu...|10.1111/j.1365-29...|0704.0017|Mon.Not.Roy.Astro...|                null|                null|     Nceba Mhlahlo|Spectroscopic Obs...| 2009-06-23|[[Sat, 31 Mar 200...|\n",
       "|  We give a presc...|  Andreas Gustavsson|[[Gustavsson, And...|           hep-th|20 pages, v2: an ...|                null|0704.0018|                null|                null|                null|Andreas Gustavsson|In quest of a gen...| 2007-05-23|[[Mon, 2 Apr 2007...|\n",
       "|  In this note we...|         Norio Konno|  [[Konno, Norio, ]]|  math.PR math.AG|6 pages, Journal-...|                null|0704.0019|RIMS Kokyuroku, N...|                null|                null|       Norio Konno|Approximation for...| 2007-06-23|[[Sat, 31 Mar 200...|\n",
       "|  The shape of th...|The BABAR Collabo...|[[The BABAR Colla...|           hep-ex|21 pages, 13 post...|10.1103/PhysRevD....|0704.0020|Phys.Rev.D76:0520...|                null|BABAR-PUB-07/015,...|   Patrick Roudeau|Measurement of th...| 2015-06-30|[[Sat, 31 Mar 200...|\n",
       "+--------------------+--------------------+--------------------+-----------------+--------------------+--------------------+---------+--------------------+--------------------+--------------------+------------------+--------------------+-----------+--------------------+\n",
       "only showing top 20 rows"
      ]
     },
     "execution_count": 29,
     "metadata": {},
     "output_type": "execute_result"
    }
   ],
   "source": [
    "df"
   ]
  },
  {
   "cell_type": "code",
   "execution_count": 11,
   "metadata": {},
   "outputs": [],
   "source": [
    "spark.stop()"
   ]
  }
 ],
 "metadata": {
  "kernelspec": {
   "display_name": "Python 3",
   "language": "python",
   "name": "python3"
  },
  "language_info": {
   "codemirror_mode": {
    "name": "ipython",
    "version": 3
   },
   "file_extension": ".py",
   "mimetype": "text/x-python",
   "name": "python",
   "nbconvert_exporter": "python",
   "pygments_lexer": "ipython3",
   "version": "3.7.7"
  }
 },
 "nbformat": 4,
 "nbformat_minor": 4
}
