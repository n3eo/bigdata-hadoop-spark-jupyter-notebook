{
 "cells": [
  {
   "cell_type": "code",
   "execution_count": 1,
   "metadata": {},
   "outputs": [],
   "source": [
    "import pyspark\n",
    "from pyspark.sql import SparkSession\n",
    "from pyspark.sql import functions as F\n",
    "from pyspark import SparkContext"
   ]
  },
  {
   "cell_type": "code",
   "execution_count": 2,
   "metadata": {},
   "outputs": [],
   "source": [
    "spark = SparkSession\\\n",
    "            .builder\\\n",
    "            .master(\"spark://spark-master:7077\")\\\n",
    "            .appName(\"PySpark SQL\")\\\n",
    "            .config(\"pyspark.python\", \"python3\")\\\n",
    "            .config(\"spark.sql.repl.eagerEval.enabled\", \"true\")\\\n",
    "            .config('spark.extraListeners', 'sparkmonitor.listener.JupyterSparkMonitorListener')\\\n",
    "            .config('spark.driver.extraClassPath', '/usr/local/lib/python3.7/site-packages/sparkmonitor/listener_2.11.jar')\\\n",
    "            .getOrCreate()"
   ]
  },
  {
   "cell_type": "code",
   "execution_count": 3,
   "metadata": {},
   "outputs": [],
   "source": [
    "df = spark.read.json(\"hdfs://namenode:8020/arxiv-metadata-oai-snapshot.json\")"
   ]
  },
  {
   "cell_type": "code",
   "execution_count": 4,
   "metadata": {},
   "outputs": [],
   "source": [
    "df_column_count = df.withColumn(\"wordcount\", F.size(F.split(F.col(\"abstract\"),\" \")))"
   ]
  },
  {
   "cell_type": "code",
   "execution_count": 6,
   "metadata": {},
   "outputs": [
    {
     "data": {
      "text/html": [
       "<table border='1'>\n",
       "<tr><th>id</th><th>wordcount</th></tr>\n",
       "<tr><td>0704.0001</td><td>129</td></tr>\n",
       "<tr><td>0704.0002</td><td>107</td></tr>\n",
       "<tr><td>0704.0003</td><td>135</td></tr>\n",
       "<tr><td>0704.0004</td><td>34</td></tr>\n",
       "<tr><td>0704.0005</td><td>37</td></tr>\n",
       "<tr><td>0704.0006</td><td>134</td></tr>\n",
       "<tr><td>0704.0007</td><td>145</td></tr>\n",
       "<tr><td>0704.0008</td><td>121</td></tr>\n",
       "<tr><td>0704.0009</td><td>261</td></tr>\n",
       "<tr><td>0704.0010</td><td>100</td></tr>\n",
       "<tr><td>0704.0011</td><td>46</td></tr>\n",
       "<tr><td>0704.0012</td><td>78</td></tr>\n",
       "<tr><td>0704.0013</td><td>96</td></tr>\n",
       "<tr><td>0704.0014</td><td>27</td></tr>\n",
       "<tr><td>0704.0015</td><td>50</td></tr>\n",
       "<tr><td>0704.0016</td><td>107</td></tr>\n",
       "<tr><td>0704.0017</td><td>219</td></tr>\n",
       "<tr><td>0704.0018</td><td>66</td></tr>\n",
       "<tr><td>0704.0019</td><td>28</td></tr>\n",
       "<tr><td>0704.0020</td><td>118</td></tr>\n",
       "</table>\n",
       "only showing top 20 rows\n"
      ],
      "text/plain": [
       "+---------+---------+\n",
       "|       id|wordcount|\n",
       "+---------+---------+\n",
       "|0704.0001|      129|\n",
       "|0704.0002|      107|\n",
       "|0704.0003|      135|\n",
       "|0704.0004|       34|\n",
       "|0704.0005|       37|\n",
       "|0704.0006|      134|\n",
       "|0704.0007|      145|\n",
       "|0704.0008|      121|\n",
       "|0704.0009|      261|\n",
       "|0704.0010|      100|\n",
       "|0704.0011|       46|\n",
       "|0704.0012|       78|\n",
       "|0704.0013|       96|\n",
       "|0704.0014|       27|\n",
       "|0704.0015|       50|\n",
       "|0704.0016|      107|\n",
       "|0704.0017|      219|\n",
       "|0704.0018|       66|\n",
       "|0704.0019|       28|\n",
       "|0704.0020|      118|\n",
       "+---------+---------+\n",
       "only showing top 20 rows"
      ]
     },
     "execution_count": 6,
     "metadata": {},
     "output_type": "execute_result"
    }
   ],
   "source": [
    "df_column_count.select(\"id\", \"wordcount\")"
   ]
  },
  {
   "cell_type": "code",
   "execution_count": 12,
   "metadata": {
    "scrolled": false
   },
   "outputs": [
    {
     "data": {
      "text/html": [
       "<table border='1'>\n",
       "<tr><th>wordcount</th><th>count</th></tr>\n",
       "<tr><td>93</td><td>13351</td></tr>\n",
       "<tr><td>94</td><td>13041</td></tr>\n",
       "<tr><td>90</td><td>12968</td></tr>\n",
       "<tr><td>92</td><td>12966</td></tr>\n",
       "<tr><td>87</td><td>12814</td></tr>\n",
       "<tr><td>91</td><td>12790</td></tr>\n",
       "<tr><td>89</td><td>12734</td></tr>\n",
       "<tr><td>100</td><td>12673</td></tr>\n",
       "<tr><td>86</td><td>12654</td></tr>\n",
       "<tr><td>96</td><td>12603</td></tr>\n",
       "<tr><td>97</td><td>12596</td></tr>\n",
       "<tr><td>84</td><td>12529</td></tr>\n",
       "<tr><td>88</td><td>12520</td></tr>\n",
       "<tr><td>99</td><td>12445</td></tr>\n",
       "<tr><td>95</td><td>12439</td></tr>\n",
       "<tr><td>82</td><td>12426</td></tr>\n",
       "<tr><td>85</td><td>12425</td></tr>\n",
       "<tr><td>98</td><td>12407</td></tr>\n",
       "<tr><td>83</td><td>12405</td></tr>\n",
       "<tr><td>80</td><td>12291</td></tr>\n",
       "</table>\n"
      ],
      "text/plain": [
       "+---------+-----+\n",
       "|wordcount|count|\n",
       "+---------+-----+\n",
       "|       93|13351|\n",
       "|       94|13041|\n",
       "|       90|12968|\n",
       "|       92|12966|\n",
       "|       87|12814|\n",
       "|       91|12790|\n",
       "|       89|12734|\n",
       "|      100|12673|\n",
       "|       86|12654|\n",
       "|       96|12603|\n",
       "|       97|12596|\n",
       "|       84|12529|\n",
       "|       88|12520|\n",
       "|       99|12445|\n",
       "|       95|12439|\n",
       "|       82|12426|\n",
       "|       85|12425|\n",
       "|       98|12407|\n",
       "|       83|12405|\n",
       "|       80|12291|\n",
       "+---------+-----+"
      ]
     },
     "execution_count": 12,
     "metadata": {},
     "output_type": "execute_result"
    }
   ],
   "source": [
    "df_column_count.groupBy(\"wordcount\").count().orderBy(F.col(\"count\").desc()).limit(20)"
   ]
  },
  {
   "cell_type": "code",
   "execution_count": 6,
   "metadata": {},
   "outputs": [],
   "source": [
    "spark.stop()"
   ]
  }
 ],
 "metadata": {
  "kernelspec": {
   "display_name": "Python 3",
   "language": "python",
   "name": "python3"
  },
  "language_info": {
   "codemirror_mode": {
    "name": "ipython",
    "version": 3
   },
   "file_extension": ".py",
   "mimetype": "text/x-python",
   "name": "python",
   "nbconvert_exporter": "python",
   "pygments_lexer": "ipython3",
   "version": "3.7.7"
  }
 },
 "nbformat": 4,
 "nbformat_minor": 4
}
