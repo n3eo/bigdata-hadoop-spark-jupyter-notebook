{
 "cells": [
  {
   "cell_type": "code",
   "execution_count": 1,
   "metadata": {},
   "outputs": [],
   "source": [
    "import pyspark\n",
    "from pyspark.sql import SparkSession\n",
    "from pyspark.sql import functions as functions\n",
    "from pyspark import SparkContext\n",
    "\n",
    "import pandas as pd"
   ]
  },
  {
   "cell_type": "code",
   "execution_count": 2,
   "metadata": {},
   "outputs": [],
   "source": [
    "spark = SparkSession\\\n",
    "            .builder\\\n",
    "            .master(\"spark://spark-master:7077\")\\\n",
    "            .appName(\"PySpark SQL\")\\\n",
    "            .config(\"pyspark.python\", \"python3\")\\\n",
    "            .config(\"spark.sql.repl.eagerEval.enabled\", \"true\")\\\n",
    "            .config('spark.extraListeners', 'sparkmonitor.listener.JupyterSparkMonitorListener')\\\n",
    "            .config('spark.driver.extraClassPath', '/usr/local/lib/python3.7/site-packages/sparkmonitor/listener_2.11.jar')\\\n",
    "            .getOrCreate()"
   ]
  },
  {
   "cell_type": "code",
   "execution_count": 3,
   "metadata": {},
   "outputs": [],
   "source": [
    "pdf = pd.read_csv(\"RKI_COVID19.csv\")"
   ]
  },
  {
   "cell_type": "code",
   "execution_count": 4,
   "metadata": {},
   "outputs": [],
   "source": [
    "df = spark.createDataFrame(pdf)"
   ]
  },
  {
   "cell_type": "code",
   "execution_count": 6,
   "metadata": {},
   "outputs": [
    {
     "data": {
      "text/plain": [
       "Row(ObjectId=1, IdBundesland=1, Bundesland='Schleswig-Holstein', Landkreis='SK Flensburg', Altersgruppe='A00-A04', Geschlecht='M', AnzahlFall=1, AnzahlTodesfall=0, Meldedatum='2020/09/30 00:00:00', IdLandkreis=1001, Datenstand='30.11.2020, 00:00 Uhr', NeuerFall=0, NeuerTodesfall=-9, Refdatum='2020/09/30 00:00:00', NeuGenesen=0, AnzahlGenesen=1, IstErkrankungsbeginn=0, Altersgruppe2='Nicht übermittelt')"
      ]
     },
     "execution_count": 6,
     "metadata": {},
     "output_type": "execute_result"
    }
   ],
   "source": [
    "df.head()"
   ]
  },
  {
   "cell_type": "code",
   "execution_count": 17,
   "metadata": {},
   "outputs": [],
   "source": [
    "df_split = df.withColumn(\"agegroup_split\", F.split(F.col(\"Altersgruppe\"), \"-\"))"
   ]
  },
  {
   "cell_type": "code",
   "execution_count": 24,
   "metadata": {},
   "outputs": [
    {
     "data": {
      "text/html": [
       "<table border='1'>\n",
       "<tr><th>objectId</th><th>agegroup_split</th></tr>\n",
       "<tr><td>1</td><td>[A00, A04]</td></tr>\n",
       "<tr><td>2</td><td>[A00, A04]</td></tr>\n",
       "<tr><td>3</td><td>[A00, A04]</td></tr>\n",
       "<tr><td>4</td><td>[A00, A04]</td></tr>\n",
       "<tr><td>5</td><td>[A00, A04]</td></tr>\n",
       "<tr><td>6</td><td>[A00, A04]</td></tr>\n",
       "<tr><td>7</td><td>[A00, A04]</td></tr>\n",
       "<tr><td>8</td><td>[A00, A04]</td></tr>\n",
       "<tr><td>9</td><td>[A05, A14]</td></tr>\n",
       "<tr><td>10</td><td>[A05, A14]</td></tr>\n",
       "<tr><td>11</td><td>[A05, A14]</td></tr>\n",
       "<tr><td>12</td><td>[A05, A14]</td></tr>\n",
       "<tr><td>13</td><td>[A05, A14]</td></tr>\n",
       "<tr><td>14</td><td>[A05, A14]</td></tr>\n",
       "<tr><td>15</td><td>[A05, A14]</td></tr>\n",
       "<tr><td>16</td><td>[A05, A14]</td></tr>\n",
       "<tr><td>17</td><td>[A05, A14]</td></tr>\n",
       "<tr><td>18</td><td>[A05, A14]</td></tr>\n",
       "<tr><td>19</td><td>[A05, A14]</td></tr>\n",
       "<tr><td>20</td><td>[A05, A14]</td></tr>\n",
       "</table>\n",
       "only showing top 20 rows\n"
      ],
      "text/plain": [
       "+--------+--------------+\n",
       "|objectId|agegroup_split|\n",
       "+--------+--------------+\n",
       "|       1|    [A00, A04]|\n",
       "|       2|    [A00, A04]|\n",
       "|       3|    [A00, A04]|\n",
       "|       4|    [A00, A04]|\n",
       "|       5|    [A00, A04]|\n",
       "|       6|    [A00, A04]|\n",
       "|       7|    [A00, A04]|\n",
       "|       8|    [A00, A04]|\n",
       "|       9|    [A05, A14]|\n",
       "|      10|    [A05, A14]|\n",
       "|      11|    [A05, A14]|\n",
       "|      12|    [A05, A14]|\n",
       "|      13|    [A05, A14]|\n",
       "|      14|    [A05, A14]|\n",
       "|      15|    [A05, A14]|\n",
       "|      16|    [A05, A14]|\n",
       "|      17|    [A05, A14]|\n",
       "|      18|    [A05, A14]|\n",
       "|      19|    [A05, A14]|\n",
       "|      20|    [A05, A14]|\n",
       "+--------+--------------+\n",
       "only showing top 20 rows"
      ]
     },
     "execution_count": 24,
     "metadata": {},
     "output_type": "execute_result"
    }
   ],
   "source": [
    "df_split.select(\"objectId\", \"agegroup_split\")"
   ]
  },
  {
   "cell_type": "code",
   "execution_count": 29,
   "metadata": {},
   "outputs": [
    {
     "data": {
      "text/html": [
       "<table border='1'>\n",
       "<tr><th>objectId</th><th>agegroup_split</th><th>min</th><th>max</th></tr>\n",
       "<tr><td>1</td><td>[A00, A04]</td><td>A00</td><td>A04</td></tr>\n",
       "<tr><td>2</td><td>[A00, A04]</td><td>A00</td><td>A04</td></tr>\n",
       "<tr><td>3</td><td>[A00, A04]</td><td>A00</td><td>A04</td></tr>\n",
       "<tr><td>4</td><td>[A00, A04]</td><td>A00</td><td>A04</td></tr>\n",
       "<tr><td>5</td><td>[A00, A04]</td><td>A00</td><td>A04</td></tr>\n",
       "<tr><td>6</td><td>[A00, A04]</td><td>A00</td><td>A04</td></tr>\n",
       "<tr><td>7</td><td>[A00, A04]</td><td>A00</td><td>A04</td></tr>\n",
       "<tr><td>8</td><td>[A00, A04]</td><td>A00</td><td>A04</td></tr>\n",
       "<tr><td>9</td><td>[A05, A14]</td><td>A05</td><td>A14</td></tr>\n",
       "<tr><td>10</td><td>[A05, A14]</td><td>A05</td><td>A14</td></tr>\n",
       "<tr><td>11</td><td>[A05, A14]</td><td>A05</td><td>A14</td></tr>\n",
       "<tr><td>12</td><td>[A05, A14]</td><td>A05</td><td>A14</td></tr>\n",
       "<tr><td>13</td><td>[A05, A14]</td><td>A05</td><td>A14</td></tr>\n",
       "<tr><td>14</td><td>[A05, A14]</td><td>A05</td><td>A14</td></tr>\n",
       "<tr><td>15</td><td>[A05, A14]</td><td>A05</td><td>A14</td></tr>\n",
       "<tr><td>16</td><td>[A05, A14]</td><td>A05</td><td>A14</td></tr>\n",
       "<tr><td>17</td><td>[A05, A14]</td><td>A05</td><td>A14</td></tr>\n",
       "<tr><td>18</td><td>[A05, A14]</td><td>A05</td><td>A14</td></tr>\n",
       "<tr><td>19</td><td>[A05, A14]</td><td>A05</td><td>A14</td></tr>\n",
       "<tr><td>20</td><td>[A05, A14]</td><td>A05</td><td>A14</td></tr>\n",
       "</table>\n",
       "only showing top 20 rows\n"
      ],
      "text/plain": [
       "+--------+--------------+---+---+\n",
       "|objectId|agegroup_split|min|max|\n",
       "+--------+--------------+---+---+\n",
       "|       1|    [A00, A04]|A00|A04|\n",
       "|       2|    [A00, A04]|A00|A04|\n",
       "|       3|    [A00, A04]|A00|A04|\n",
       "|       4|    [A00, A04]|A00|A04|\n",
       "|       5|    [A00, A04]|A00|A04|\n",
       "|       6|    [A00, A04]|A00|A04|\n",
       "|       7|    [A00, A04]|A00|A04|\n",
       "|       8|    [A00, A04]|A00|A04|\n",
       "|       9|    [A05, A14]|A05|A14|\n",
       "|      10|    [A05, A14]|A05|A14|\n",
       "|      11|    [A05, A14]|A05|A14|\n",
       "|      12|    [A05, A14]|A05|A14|\n",
       "|      13|    [A05, A14]|A05|A14|\n",
       "|      14|    [A05, A14]|A05|A14|\n",
       "|      15|    [A05, A14]|A05|A14|\n",
       "|      16|    [A05, A14]|A05|A14|\n",
       "|      17|    [A05, A14]|A05|A14|\n",
       "|      18|    [A05, A14]|A05|A14|\n",
       "|      19|    [A05, A14]|A05|A14|\n",
       "|      20|    [A05, A14]|A05|A14|\n",
       "+--------+--------------+---+---+\n",
       "only showing top 20 rows"
      ]
     },
     "execution_count": 29,
     "metadata": {},
     "output_type": "execute_result"
    }
   ],
   "source": [
    "df_split.select(\"objectId\", \"agegroup_split\")\\\n",
    "        .withColumn(\"min\", F.col(\"agegroup_split\")[0])\\\n",
    "        .withColumn(\"max\", F.col(\"agegroup_split\")[1])"
   ]
  },
  {
   "cell_type": "code",
   "execution_count": 30,
   "metadata": {},
   "outputs": [],
   "source": [
    "spark.stop()"
   ]
  }
 ],
 "metadata": {
  "kernelspec": {
   "display_name": "Python 3",
   "language": "python",
   "name": "python3"
  },
  "language_info": {
   "codemirror_mode": {
    "name": "ipython",
    "version": 3
   },
   "file_extension": ".py",
   "mimetype": "text/x-python",
   "name": "python",
   "nbconvert_exporter": "python",
   "pygments_lexer": "ipython3",
   "version": "3.7.7"
  }
 },
 "nbformat": 4,
 "nbformat_minor": 4
}
